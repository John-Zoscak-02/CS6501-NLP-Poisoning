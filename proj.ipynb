{
 "cells": [
  {
   "cell_type": "markdown",
   "id": "601332c8",
   "metadata": {},
   "source": [
    "# Poisoning Tehniques for LLMS, A Llama2 study\n",
    "\n",
    "<img src=\"img/meta.png\"/>\n",
    "\n",
    "---\n",
    "\n",
    "**John Zoscak (jmz9sad@virginia.edu), Arthur Redfern (jsf7un@virginia.edu)**\n",
    "Department of Computer Science\\\n",
    "University of Virginia\\\n",
    "Charlottesville, VA 22903, USA\n",
    "\n",
    "***Abstract:*** Many people have heard of \"Nightshade\", a new text-to-image poisoning software which uses undetectable altercations to pixels in image data during fine-tuning of image-generative models to corrupt image generation. One slightly less complete, yet adjacent field of study is the poisoning of LLMs. There have been a number of poisoning techniques employed on LLMs (especially instruction tuned LLMs), including label poisoning in fine-tuning stages, as well as training data poisoning. In our research, we intend to analyze the effect that these existing methods have on Llama2, as well as investigate the possibility of creating alternative forms poisoning data. We intended to discover if context-based attacks can be used to compromise general task functionality and deeper functionalities of LLMs with similarly minimal samples as previous work. This project is a hands-on style NLP project."
   ]
  },
  {
   "cell_type": "code",
   "execution_count": 4,
   "metadata": {},
   "outputs": [],
   "source": [
    "# Make sure that ollama is not running before proceeding!!!\n",
    "# ! ollama run llama2"
   ]
  },
  {
   "cell_type": "code",
   "execution_count": null,
   "id": "0492e1a6",
   "metadata": {},
   "outputs": [],
   "source": []
  }
 ],
 "metadata": {
  "kernelspec": {
   "display_name": "6501-proj-kernel",
   "language": "python",
   "name": "6501-proj-kernel"
  },
  "language_info": {
   "codemirror_mode": {
    "name": "ipython",
    "version": 3
   },
   "file_extension": ".py",
   "mimetype": "text/x-python",
   "name": "python",
   "nbconvert_exporter": "python",
   "pygments_lexer": "ipython3",
   "version": "3.9.7"
  }
 },
 "nbformat": 4,
 "nbformat_minor": 5
}
